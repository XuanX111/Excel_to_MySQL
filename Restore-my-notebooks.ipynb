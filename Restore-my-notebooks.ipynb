{
 "cells": [
  {
   "cell_type": "markdown",
   "metadata": {},
   "source": [
    "## Restore my notebooks from the original templates\n",
    "\n",
    "If you have deleted or significantly altered one or more of your notebooks \n",
	"(either purposefully or unintentionally) and want to start again with clean versions \n",
	"of your notebooks, run the query cell below. \n",
    "\n",
    "This will copy new un-modified versions of ALL TWELVE mySQL notebooks \n",
	"into your Jupyter home directory.  \n",
    "\n",
    "**_NOTE:_** this will **_delete_** your current copies of all 12 mySQL notebooks.  \n",
    "To keep your current notebooks you should rename them _before_ you run the cell below \n",
    "to avoid having them over-written when new clean template versions are restored.  \n",
    "\n"
   ]
  },
  {
   "cell_type": "code",
   "execution_count": null,
   "metadata": {
    "collapsed": true
   },
   "outputs": [],
   "source": [
    "cp /nb-backups/* /home/jovyan/work/\n",
    "chmod u+w /home/jovyan/work/*"
   ]
  }
 ],
 "metadata": {
  "kernelspec": {
   "display_name": "Bash",
   "language": "bash",
   "name": "bash"
  },
  "language_info": {
   "codemirror_mode": "shell",
   "file_extension": ".sh",
   "mimetype": "text/x-sh",
   "name": "bash"
  }
 },
 "nbformat": 4,
 "nbformat_minor": 0
}
